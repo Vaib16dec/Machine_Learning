{
 "cells": [
  {
   "cell_type": "markdown",
   "metadata": {},
   "source": [
    "# Pandas"
   ]
  },
  {
   "cell_type": "markdown",
   "metadata": {},
   "source": [
    "We have seen Numpy in the last section. It is good at performing math operation on 2d-arrays of numbers. But the major drawback is, it cannot deal with heterogenous values. So, Pandas dataframes are helpful in that aspect for storing different data types and referring the values like a dict in python instead of just referring each item with index.\n",
    "\n",
    "[Link to Official Documentation](http://pandas.pydata.org/pandas-docs/version/0.23/dsintro.html)"
   ]
  },
  {
   "cell_type": "markdown",
   "metadata": {},
   "source": [
    "## Series"
   ]
  },
  {
   "cell_type": "markdown",
   "metadata": {},
   "source": [
    "Pandas series are almost same as nd arrays in numpy, with a additional inferencing ability with custom labels like *keys* in a *dictionary* in python."
   ]
  },
  {
   "cell_type": "code",
   "execution_count": 1,
   "metadata": {},
   "outputs": [],
   "source": [
    "import numpy as np\n",
    "import pandas as pd"
   ]
  },
  {
   "cell_type": "code",
   "execution_count": 10,
   "metadata": {},
   "outputs": [
    {
     "data": {
      "text/plain": [
       "key1    1\n",
       "key2    2\n",
       "key3    3\n",
       "dtype: int64"
      ]
     },
     "execution_count": 10,
     "metadata": {},
     "output_type": "execute_result"
    }
   ],
   "source": [
    "#Example\n",
    "\n",
    "series2 = pd.Series(data = [1,2,3], index = ['key1', 'key2', 'key3'])\n",
    "series2"
   ]
  },
  {
   "cell_type": "markdown",
   "metadata": {},
   "source": [
    "### Question 1\n",
    "\n",
    "Convert a given dict to pd series.\n",
    "\n",
    "[**Hint:** Use **.Series**]"
   ]
  },
  {
   "cell_type": "code",
   "execution_count": 8,
   "metadata": {},
   "outputs": [
    {
     "data": {
      "text/plain": [
       "key1    1\n",
       "Key2    2\n",
       "Key3    3\n",
       "dtype: int64"
      ]
     },
     "execution_count": 8,
     "metadata": {},
     "output_type": "execute_result"
    }
   ],
   "source": [
    "import pandas as pd\n",
    "dict= {'key1':1, 'Key2':2,'Key3':3}\n",
    "pd.Series(dict)"
   ]
  },
  {
   "cell_type": "markdown",
   "metadata": {},
   "source": [
    "## Dataframes"
   ]
  },
  {
   "cell_type": "markdown",
   "metadata": {},
   "source": [
    "A dataframe is a table with labeled columns which can hold different types of data in each column. "
   ]
  },
  {
   "cell_type": "code",
   "execution_count": 12,
   "metadata": {},
   "outputs": [
    {
     "data": {
      "text/html": [
       "<div>\n",
       "<style scoped>\n",
       "    .dataframe tbody tr th:only-of-type {\n",
       "        vertical-align: middle;\n",
       "    }\n",
       "\n",
       "    .dataframe tbody tr th {\n",
       "        vertical-align: top;\n",
       "    }\n",
       "\n",
       "    .dataframe thead th {\n",
       "        text-align: right;\n",
       "    }\n",
       "</style>\n",
       "<table border=\"1\" class=\"dataframe\">\n",
       "  <thead>\n",
       "    <tr style=\"text-align: right;\">\n",
       "      <th></th>\n",
       "      <th>a</th>\n",
       "      <th>b</th>\n",
       "      <th>c</th>\n",
       "    </tr>\n",
       "  </thead>\n",
       "  <tbody>\n",
       "    <tr>\n",
       "      <th>0</th>\n",
       "      <td>1</td>\n",
       "      <td>3</td>\n",
       "      <td>6</td>\n",
       "    </tr>\n",
       "    <tr>\n",
       "      <th>1</th>\n",
       "      <td>2</td>\n",
       "      <td>4</td>\n",
       "      <td>7</td>\n",
       "    </tr>\n",
       "    <tr>\n",
       "      <th>2</th>\n",
       "      <td>3</td>\n",
       "      <td>5</td>\n",
       "      <td>8</td>\n",
       "    </tr>\n",
       "  </tbody>\n",
       "</table>\n",
       "</div>"
      ],
      "text/plain": [
       "   a  b  c\n",
       "0  1  3  6\n",
       "1  2  4  7\n",
       "2  3  5  8"
      ]
     },
     "execution_count": 12,
     "metadata": {},
     "output_type": "execute_result"
    }
   ],
   "source": [
    "# Example\n",
    "d1 = {'a': [1,2,3], 'b': [3,4,5], 'c':[6,7,8] }\n",
    "df1 = pd.DataFrame(d1)\n",
    "df1"
   ]
  },
  {
   "cell_type": "markdown",
   "metadata": {},
   "source": [
    "### Question 3\n",
    "\n",
    "Select second row in the above dataframe df1.\n",
    "\n"
   ]
  },
  {
   "cell_type": "code",
   "execution_count": 15,
   "metadata": {},
   "outputs": [
    {
     "data": {
      "text/plain": [
       "0    3\n",
       "1    4\n",
       "2    5\n",
       "Name: b, dtype: int64"
      ]
     },
     "execution_count": 15,
     "metadata": {},
     "output_type": "execute_result"
    }
   ],
   "source": [
    "d1 = {'a': [1,2,3], 'b': [3,4,5], 'c':[6,7,8] }\n",
    "df1 = pd.DataFrame(d1)\n",
    "df1['b']"
   ]
  },
  {
   "cell_type": "markdown",
   "metadata": {},
   "source": [
    "### Question 4\n",
    "\n",
    "Select column c in second row of df1.\n",
    "\n",
    "[ **Hint: ** For using labels use **df.loc[row, column]**. For using numeric indexed use **df.iloc[]**. For using mixture of numeric indexes and labels use **df.ix[row, column]** ]\n",
    "\n"
   ]
  },
  {
   "cell_type": "code",
   "execution_count": 21,
   "metadata": {},
   "outputs": [
    {
     "data": {
      "text/plain": [
       "8"
      ]
     },
     "execution_count": 21,
     "metadata": {},
     "output_type": "execute_result"
    }
   ],
   "source": [
    "df1.iloc[2,2]"
   ]
  },
  {
   "cell_type": "markdown",
   "metadata": {},
   "source": [
    "## Using Dataframes on a dataset"
   ]
  },
  {
   "cell_type": "markdown",
   "metadata": {},
   "source": [
    "##### Using the mtcars dataset.\n",
    "\n",
    "For the below set of questions, we will be using the cars data from [Motor Trend Car Road Tests](http://stat.ethz.ch/R-manual/R-devel/library/datasets/html/mtcars.html)\n",
    "\n",
    "The data was extracted from the 1974 Motor Trend US magazine, and comprises fuel consumption and 10 aspects of automobile design and performance for 32 automobiles (1973–74 models). \n",
    "\n",
    "\n",
    "Details :\n",
    "    \n",
    "A data frame with 32 observations on 11 (numeric) variables.\n",
    "\n",
    "[, 1] \tmpg \tMiles/(US) gallon\n",
    "\n",
    "[, 2] \tcyl \tNumber of cylinders\n",
    "\n",
    "[, 3] \tdisp \tDisplacement (cu.in.)\n",
    "\n",
    "[, 4] \thp \tGross horsepower\n",
    "\n",
    "[, 5] \tdrat \tRear axle ratio\n",
    "\n",
    "[, 6] \twt \tWeight (1000 lbs)\n",
    "\n",
    "[, 7] \tqsec \t1/4 mile time\n",
    "\n",
    "[, 8] \tvs \tEngine (0 = V-shaped, 1 = straight)\n",
    "\n",
    "[, 9] \tam \tTransmission (0 = automatic, 1 = manual)\n",
    "\n",
    "[,10] \tgear \tNumber of forward gears\n",
    "\n",
    "[,11] \tcarb \tNumber of carburetors "
   ]
  },
  {
   "cell_type": "code",
   "execution_count": 24,
   "metadata": {},
   "outputs": [],
   "source": [
    "## Reading a dataset from a csv file using pandas.\n",
    "mtcars = pd.read_csv('mtcars.csv')\n",
    "mtcars.index = mtcars['name']\n"
   ]
  },
  {
   "cell_type": "markdown",
   "metadata": {},
   "source": [
    "Following questions are based on analysing a particular dataset using dataframes."
   ]
  },
  {
   "cell_type": "markdown",
   "metadata": {},
   "source": [
    "### Question 5\n",
    "\n",
    "Check the type and dimensions of given dataset - mtcars.\n",
    "\n",
    "\n",
    "[ **Hint: ** Use **type()** and **df.shape** ]"
   ]
  },
  {
   "cell_type": "code",
   "execution_count": 27,
   "metadata": {},
   "outputs": [
    {
     "data": {
      "text/plain": [
       "(32, 12)"
      ]
     },
     "execution_count": 27,
     "metadata": {},
     "output_type": "execute_result"
    }
   ],
   "source": [
    "mtcars = pd.read_csv('mtcars.csv')\n",
    "mtcars.index = mtcars['name']\n",
    "mtcars.shape"
   ]
  },
  {
   "cell_type": "markdown",
   "metadata": {},
   "source": [
    "### Question 6\n",
    "\n",
    "Check the first 10 lines and last 10 lines of the given dataset- mtcars.\n",
    "\n",
    "[**Hint:** Use **.head()** and **.tail()**]"
   ]
  },
  {
   "cell_type": "code",
   "execution_count": 29,
   "metadata": {},
   "outputs": [
    {
     "data": {
      "text/plain": [
       "<bound method NDFrame.tail of                                     name   mpg  cyl   disp   hp  drat     wt  \\\n",
       "name                                                                           \n",
       "Mazda RX4                      Mazda RX4  21.0    6  160.0  110  3.90  2.620   \n",
       "Mazda RX4 Wag              Mazda RX4 Wag  21.0    6  160.0  110  3.90  2.875   \n",
       "Datsun 710                    Datsun 710  22.8    4  108.0   93  3.85  2.320   \n",
       "Hornet 4 Drive            Hornet 4 Drive  21.4    6  258.0  110  3.08  3.215   \n",
       "Hornet Sportabout      Hornet Sportabout  18.7    8  360.0  175  3.15  3.440   \n",
       "Valiant                          Valiant  18.1    6  225.0  105  2.76  3.460   \n",
       "Duster 360                    Duster 360  14.3    8  360.0  245  3.21  3.570   \n",
       "Merc 240D                      Merc 240D  24.4    4  146.7   62  3.69  3.190   \n",
       "Merc 230                        Merc 230  22.8    4  140.8   95  3.92  3.150   \n",
       "Merc 280                        Merc 280  19.2    6  167.6  123  3.92  3.440   \n",
       "Merc 280C                      Merc 280C  17.8    6  167.6  123  3.92  3.440   \n",
       "Merc 450SE                    Merc 450SE  16.4    8  275.8  180  3.07  4.070   \n",
       "Merc 450SL                    Merc 450SL  17.3    8  275.8  180  3.07  3.730   \n",
       "Merc 450SLC                  Merc 450SLC  15.2    8  275.8  180  3.07  3.780   \n",
       "Cadillac Fleetwood    Cadillac Fleetwood  10.4    8  472.0  205  2.93  5.250   \n",
       "Lincoln Continental  Lincoln Continental  10.4    8  460.0  215  3.00  5.424   \n",
       "Chrysler Imperial      Chrysler Imperial  14.7    8  440.0  230  3.23  5.345   \n",
       "Fiat 128                        Fiat 128  32.4    4   78.7   66  4.08  2.200   \n",
       "Honda Civic                  Honda Civic  30.4    4   75.7   52  4.93  1.615   \n",
       "Toyota Corolla            Toyota Corolla  33.9    4   71.1   65  4.22  1.835   \n",
       "Toyota Corona              Toyota Corona  21.5    4  120.1   97  3.70  2.465   \n",
       "Dodge Challenger        Dodge Challenger  15.5    8  318.0  150  2.76  3.520   \n",
       "AMC Javelin                  AMC Javelin  15.2    8  304.0  150  3.15  3.435   \n",
       "Camaro Z28                    Camaro Z28  13.3    8  350.0  245  3.73  3.840   \n",
       "Pontiac Firebird        Pontiac Firebird  19.2    8  400.0  175  3.08  3.845   \n",
       "Fiat X1-9                      Fiat X1-9  27.3    4   79.0   66  4.08  1.935   \n",
       "Porsche 914-2              Porsche 914-2  26.0    4  120.3   91  4.43  2.140   \n",
       "Lotus Europa                Lotus Europa  30.4    4   95.1  113  3.77  1.513   \n",
       "Ford Pantera L            Ford Pantera L  15.8    8  351.0  264  4.22  3.170   \n",
       "Ferrari Dino                Ferrari Dino  19.7    6  145.0  175  3.62  2.770   \n",
       "Maserati Bora              Maserati Bora  15.0    8  301.0  335  3.54  3.570   \n",
       "Volvo 142E                    Volvo 142E  21.4    4  121.0  109  4.11  2.780   \n",
       "\n",
       "                      qsec  vs  am  gear  carb  \n",
       "name                                            \n",
       "Mazda RX4            16.46   0   1     4     4  \n",
       "Mazda RX4 Wag        17.02   0   1     4     4  \n",
       "Datsun 710           18.61   1   1     4     1  \n",
       "Hornet 4 Drive       19.44   1   0     3     1  \n",
       "Hornet Sportabout    17.02   0   0     3     2  \n",
       "Valiant              20.22   1   0     3     1  \n",
       "Duster 360           15.84   0   0     3     4  \n",
       "Merc 240D            20.00   1   0     4     2  \n",
       "Merc 230             22.90   1   0     4     2  \n",
       "Merc 280             18.30   1   0     4     4  \n",
       "Merc 280C            18.90   1   0     4     4  \n",
       "Merc 450SE           17.40   0   0     3     3  \n",
       "Merc 450SL           17.60   0   0     3     3  \n",
       "Merc 450SLC          18.00   0   0     3     3  \n",
       "Cadillac Fleetwood   17.98   0   0     3     4  \n",
       "Lincoln Continental  17.82   0   0     3     4  \n",
       "Chrysler Imperial    17.42   0   0     3     4  \n",
       "Fiat 128             19.47   1   1     4     1  \n",
       "Honda Civic          18.52   1   1     4     2  \n",
       "Toyota Corolla       19.90   1   1     4     1  \n",
       "Toyota Corona        20.01   1   0     3     1  \n",
       "Dodge Challenger     16.87   0   0     3     2  \n",
       "AMC Javelin          17.30   0   0     3     2  \n",
       "Camaro Z28           15.41   0   0     3     4  \n",
       "Pontiac Firebird     17.05   0   0     3     2  \n",
       "Fiat X1-9            18.90   1   1     4     1  \n",
       "Porsche 914-2        16.70   0   1     5     2  \n",
       "Lotus Europa         16.90   1   1     5     2  \n",
       "Ford Pantera L       14.50   0   1     5     4  \n",
       "Ferrari Dino         15.50   0   1     5     6  \n",
       "Maserati Bora        14.60   0   1     5     8  \n",
       "Volvo 142E           18.60   1   1     4     2  >"
      ]
     },
     "execution_count": 29,
     "metadata": {},
     "output_type": "execute_result"
    }
   ],
   "source": [
    "mtcars = pd.read_csv('mtcars.csv')\n",
    "mtcars.index = mtcars['name']\n",
    "mtcars.tail"
   ]
  },
  {
   "cell_type": "markdown",
   "metadata": {},
   "source": [
    "### Question 7\n",
    "\n",
    "Print all the column labels in the given dataset - mtcars.\n",
    "\n",
    "[ **Hint: ** Use **df.columns** ]"
   ]
  },
  {
   "cell_type": "code",
   "execution_count": 30,
   "metadata": {},
   "outputs": [
    {
     "data": {
      "text/plain": [
       "Index(['name', 'mpg', 'cyl', 'disp', 'hp', 'drat', 'wt', 'qsec', 'vs', 'am',\n",
       "       'gear', 'carb'],\n",
       "      dtype='object')"
      ]
     },
     "execution_count": 30,
     "metadata": {},
     "output_type": "execute_result"
    }
   ],
   "source": [
    "mtcars.columns"
   ]
  },
  {
   "cell_type": "markdown",
   "metadata": {},
   "source": [
    "### Question 8"
   ]
  },
  {
   "cell_type": "markdown",
   "metadata": {},
   "source": [
    "Select first 6 rows and 3 columns in mtcars dataframe.\n",
    "\n",
    "**Hint: **  \n",
    "mtcars.ix[:,:] gives all rows and columns in the dataset."
   ]
  },
  {
   "cell_type": "code",
   "execution_count": 32,
   "metadata": {},
   "outputs": [
    {
     "ename": "TypeError",
     "evalue": "'(slice(None, 6, None), slice(3, None, None))' is an invalid key",
     "output_type": "error",
     "traceback": [
      "\u001b[1;31m---------------------------------------------------------------------------\u001b[0m",
      "\u001b[1;31mTypeError\u001b[0m                                 Traceback (most recent call last)",
      "\u001b[1;32m<ipython-input-32-052dbadf2d8b>\u001b[0m in \u001b[0;36m<module>\u001b[1;34m\u001b[0m\n\u001b[1;32m----> 1\u001b[1;33m \u001b[0mmtcars\u001b[0m\u001b[1;33m[\u001b[0m\u001b[1;33m:\u001b[0m\u001b[1;36m6\u001b[0m\u001b[1;33m,\u001b[0m\u001b[1;36m3\u001b[0m\u001b[1;33m:\u001b[0m\u001b[1;33m]\u001b[0m\u001b[1;33m\u001b[0m\u001b[1;33m\u001b[0m\u001b[0m\n\u001b[0m",
      "\u001b[1;32mc:\\users\\mcqs5743\\appdata\\local\\programs\\python\\python37\\lib\\site-packages\\pandas\\core\\frame.py\u001b[0m in \u001b[0;36m__getitem__\u001b[1;34m(self, key)\u001b[0m\n\u001b[0;32m   2798\u001b[0m             \u001b[1;32mif\u001b[0m \u001b[0mself\u001b[0m\u001b[1;33m.\u001b[0m\u001b[0mcolumns\u001b[0m\u001b[1;33m.\u001b[0m\u001b[0mnlevels\u001b[0m \u001b[1;33m>\u001b[0m \u001b[1;36m1\u001b[0m\u001b[1;33m:\u001b[0m\u001b[1;33m\u001b[0m\u001b[1;33m\u001b[0m\u001b[0m\n\u001b[0;32m   2799\u001b[0m                 \u001b[1;32mreturn\u001b[0m \u001b[0mself\u001b[0m\u001b[1;33m.\u001b[0m\u001b[0m_getitem_multilevel\u001b[0m\u001b[1;33m(\u001b[0m\u001b[0mkey\u001b[0m\u001b[1;33m)\u001b[0m\u001b[1;33m\u001b[0m\u001b[1;33m\u001b[0m\u001b[0m\n\u001b[1;32m-> 2800\u001b[1;33m             \u001b[0mindexer\u001b[0m \u001b[1;33m=\u001b[0m \u001b[0mself\u001b[0m\u001b[1;33m.\u001b[0m\u001b[0mcolumns\u001b[0m\u001b[1;33m.\u001b[0m\u001b[0mget_loc\u001b[0m\u001b[1;33m(\u001b[0m\u001b[0mkey\u001b[0m\u001b[1;33m)\u001b[0m\u001b[1;33m\u001b[0m\u001b[1;33m\u001b[0m\u001b[0m\n\u001b[0m\u001b[0;32m   2801\u001b[0m             \u001b[1;32mif\u001b[0m \u001b[0mis_integer\u001b[0m\u001b[1;33m(\u001b[0m\u001b[0mindexer\u001b[0m\u001b[1;33m)\u001b[0m\u001b[1;33m:\u001b[0m\u001b[1;33m\u001b[0m\u001b[1;33m\u001b[0m\u001b[0m\n\u001b[0;32m   2802\u001b[0m                 \u001b[0mindexer\u001b[0m \u001b[1;33m=\u001b[0m \u001b[1;33m[\u001b[0m\u001b[0mindexer\u001b[0m\u001b[1;33m]\u001b[0m\u001b[1;33m\u001b[0m\u001b[1;33m\u001b[0m\u001b[0m\n",
      "\u001b[1;32mc:\\users\\mcqs5743\\appdata\\local\\programs\\python\\python37\\lib\\site-packages\\pandas\\core\\indexes\\base.py\u001b[0m in \u001b[0;36mget_loc\u001b[1;34m(self, key, method, tolerance)\u001b[0m\n\u001b[0;32m   2644\u001b[0m                 )\n\u001b[0;32m   2645\u001b[0m             \u001b[1;32mtry\u001b[0m\u001b[1;33m:\u001b[0m\u001b[1;33m\u001b[0m\u001b[1;33m\u001b[0m\u001b[0m\n\u001b[1;32m-> 2646\u001b[1;33m                 \u001b[1;32mreturn\u001b[0m \u001b[0mself\u001b[0m\u001b[1;33m.\u001b[0m\u001b[0m_engine\u001b[0m\u001b[1;33m.\u001b[0m\u001b[0mget_loc\u001b[0m\u001b[1;33m(\u001b[0m\u001b[0mkey\u001b[0m\u001b[1;33m)\u001b[0m\u001b[1;33m\u001b[0m\u001b[1;33m\u001b[0m\u001b[0m\n\u001b[0m\u001b[0;32m   2647\u001b[0m             \u001b[1;32mexcept\u001b[0m \u001b[0mKeyError\u001b[0m\u001b[1;33m:\u001b[0m\u001b[1;33m\u001b[0m\u001b[1;33m\u001b[0m\u001b[0m\n\u001b[0;32m   2648\u001b[0m                 \u001b[1;32mreturn\u001b[0m \u001b[0mself\u001b[0m\u001b[1;33m.\u001b[0m\u001b[0m_engine\u001b[0m\u001b[1;33m.\u001b[0m\u001b[0mget_loc\u001b[0m\u001b[1;33m(\u001b[0m\u001b[0mself\u001b[0m\u001b[1;33m.\u001b[0m\u001b[0m_maybe_cast_indexer\u001b[0m\u001b[1;33m(\u001b[0m\u001b[0mkey\u001b[0m\u001b[1;33m)\u001b[0m\u001b[1;33m)\u001b[0m\u001b[1;33m\u001b[0m\u001b[1;33m\u001b[0m\u001b[0m\n",
      "\u001b[1;32mpandas\\_libs\\index.pyx\u001b[0m in \u001b[0;36mpandas._libs.index.IndexEngine.get_loc\u001b[1;34m()\u001b[0m\n",
      "\u001b[1;32mpandas\\_libs\\index.pyx\u001b[0m in \u001b[0;36mpandas._libs.index.IndexEngine.get_loc\u001b[1;34m()\u001b[0m\n",
      "\u001b[1;31mTypeError\u001b[0m: '(slice(None, 6, None), slice(3, None, None))' is an invalid key"
     ]
    }
   ],
   "source": [
    "mtcars[:6,3:]"
   ]
  },
  {
   "cell_type": "markdown",
   "metadata": {},
   "source": [
    "### Question 9"
   ]
  },
  {
   "cell_type": "markdown",
   "metadata": {},
   "source": [
    "Select rows from name **Mazda RX4** to **Valiant** in the mtcars dataset and display only mpg and cyl values of those cars. \n",
    "\n",
    "**Hint:** Use df **.ix[rows,columns]**"
   ]
  },
  {
   "cell_type": "code",
   "execution_count": 34,
   "metadata": {},
   "outputs": [
    {
     "ename": "NameError",
     "evalue": "name 'df' is not defined",
     "output_type": "error",
     "traceback": [
      "\u001b[1;31m---------------------------------------------------------------------------\u001b[0m",
      "\u001b[1;31mNameError\u001b[0m                                 Traceback (most recent call last)",
      "\u001b[1;32m<ipython-input-34-806917456b1b>\u001b[0m in \u001b[0;36m<module>\u001b[1;34m\u001b[0m\n\u001b[1;32m----> 1\u001b[1;33m \u001b[0mdf\u001b[0m\u001b[1;33m.\u001b[0m\u001b[0mloca\u001b[0m\u001b[1;33m[\u001b[0m\u001b[1;34m'Mazda RX4'\u001b[0m\u001b[1;33m,\u001b[0m \u001b[1;34m'Valiant'\u001b[0m\u001b[1;33m,\u001b[0m\u001b[1;33m]\u001b[0m\u001b[1;33m\u001b[0m\u001b[1;33m\u001b[0m\u001b[0m\n\u001b[0m",
      "\u001b[1;31mNameError\u001b[0m: name 'df' is not defined"
     ]
    }
   ],
   "source": [
    "df.loca['Mazda RX4', 'Valiant',]"
   ]
  },
  {
   "cell_type": "code",
   "execution_count": null,
   "metadata": {},
   "outputs": [],
   "source": []
  }
 ],
 "metadata": {
  "kernelspec": {
   "display_name": "Python 3",
   "language": "python",
   "name": "python3"
  },
  "language_info": {
   "codemirror_mode": {
    "name": "ipython",
    "version": 3
   },
   "file_extension": ".py",
   "mimetype": "text/x-python",
   "name": "python",
   "nbconvert_exporter": "python",
   "pygments_lexer": "ipython3",
   "version": "3.7.4"
  }
 },
 "nbformat": 4,
 "nbformat_minor": 2
}
